{
 "cells": [
  {
   "cell_type": "code",
   "execution_count": 1,
   "metadata": {},
   "outputs": [
    {
     "name": "stdout",
     "output_type": "stream",
     "text": [
      "Welcome to JupyROOT 6.28/04\n"
     ]
    }
   ],
   "source": [
    "import ROOT as rt"
   ]
  },
  {
   "cell_type": "code",
   "execution_count": 3,
   "metadata": {},
   "outputs": [],
   "source": [
    "ANF_file_name = \"/eos/user/z/zewang/HZGamma_data/run2UL_data_Normalizing/ZGToLLG_two_jet_NAF.root\"\n",
    "data_file_name = \"/eos/user/z/zewang/HZGamma_data/run2UL_data_Normalizing/data_two_jet.root\"\n",
    "#tree_name = \"zero_to_one_jet\"\n",
    "tree_name = \"two_jet\"\n",
    "bdt_boundaries = [[0., 0.59], [0.59, 0.81], [0.81, 0.91], [0.91, 1.]]\n",
    "n_cat = len(bdt_boundaries)\n",
    "\n",
    "ANF_file = rt.TFile.Open(ANF_file_name)\n",
    "ANF_tree = ANF_file.Get(tree_name)\n",
    "\n",
    "H_mass_ANF = rt.RooRealVar(\"CMS_hzg_mass\", \"CMS_hzg_mass\", 125., 100., 180.)\n",
    "BDT_score_ANF = rt.RooRealVar(\"BDT_score\", \"BDT_score\", 0., 1.)\n",
    "\n",
    "data_ANF = {}\n",
    "data_ANF[\"ZG_NAF_allcat\"] = rt.RooDataSet(\"ZG_NAF_allcat\",\"ZG_NAF_allcat\",rt.RooArgSet(H_mass_ANF))\n",
    "for icat in range(n_cat):\n",
    "    data_ANF[\"ZG_NAF_cat{}\".format(icat)] = rt.RooDataSet(\"ZG_NAF_cat{}\".format(icat),\"ZG_NAF_cat{}\".format(icat),rt.RooArgSet(H_mass_ANF))\n",
    "\n",
    "for jentry in range(ANF_tree.GetEntriesFast()):\n",
    "    nb = ANF_tree.GetEntry(jentry)\n",
    "\n",
    "    if ANF_tree.H_mass<=100. or ANF_tree.H_mass>=180.: continue\n",
    "    if ANF_tree.regions != 0: continue\n",
    "    if ANF_tree.Z_mass>=100. or ANF_tree.Z_mass<=80.: continue\n",
    "    if (ANF_tree.Z_mass + ANF_tree.H_mass) <= 185: continue\n",
    "    if ANF_tree.H_mass_transfered<=100. or ANF_tree.H_mass_transfered>=180.: continue\n",
    "\n",
    "    H_mass_ANF.setVal(ANF_tree.H_mass_transfered)\n",
    "    \n",
    "    data_ANF[\"ZG_NAF_allcat\"].add(rt.RooArgSet(H_mass_ANF))\n",
    "    '''\n",
    "    if ANF_tree.BDT_score_transfered > bdt_boundaries[0][0] and ANF_tree.BDT_score_transfered <= bdt_boundaries[0][1]:\n",
    "        data_ANF[\"ZG_NAF_cat0\"].add(rt.RooArgSet(H_mass_ANF))\n",
    "    elif ANF_tree.BDT_score_transfered > bdt_boundaries[1][0] and ANF_tree.BDT_score_transfered <= bdt_boundaries[1][1]:\n",
    "        data_ANF[\"ZG_NAF_cat1\"].add(rt.RooArgSet(H_mass_ANF))\n",
    "    elif ANF_tree.BDT_score_transfered > bdt_boundaries[2][0] and ANF_tree.BDT_score_transfered <= bdt_boundaries[2][1]:\n",
    "        data_ANF[\"ZG_NAF_cat2\"].add(rt.RooArgSet(H_mass_ANF))\n",
    "    elif ANF_tree.BDT_score_transfered > bdt_boundaries[3][0] and ANF_tree.BDT_score_transfered <= bdt_boundaries[3][1]:\n",
    "        data_ANF[\"ZG_NAF_cat3\"].add(rt.RooArgSet(H_mass_ANF))\n",
    "    '''\n",
    "    "
   ]
  },
  {
   "cell_type": "code",
   "execution_count": 4,
   "metadata": {},
   "outputs": [],
   "source": [
    "data_file = rt.TFile.Open(data_file_name)\n",
    "data_tree = data_file.Get(tree_name)\n",
    "\n",
    "H_mass_ANF = rt.RooRealVar(\"CMS_hzg_mass\", \"CMS_hzg_mass\", 125., 100., 180.)\n",
    "BDT_score = rt.RooRealVar(\"BDT_score\", \"BDT_score\", 0., 1.)\n",
    "\n",
    "data = {}\n",
    "data[\"data_allcat\"] = rt.RooDataSet(\"data_allcat\",\"data_allcat\",rt.RooArgSet(H_mass_ANF))\n",
    "for icat in range(n_cat):\n",
    "    data[\"data_cat{}\".format(icat)] = rt.RooDataSet(\"data_cat{}\".format(icat),\"data_cat{}\".format(icat),rt.RooArgSet(H_mass_ANF))\n",
    "\n",
    "for jentry in range(data_tree.GetEntriesFast()):\n",
    "    nb = data_tree.GetEntry(jentry)\n",
    "\n",
    "    if data_tree.H_mass<=100. or data_tree.H_mass>=180.: continue\n",
    "    if data_tree.regions != 0: continue\n",
    "    if data_tree.Z_mass>=100. or data_tree.Z_mass<=80.: continue\n",
    "    if (data_tree.Z_mass + data_tree.H_mass) <= 185: continue\n",
    "\n",
    "    H_mass_ANF.setVal(data_tree.H_mass)\n",
    "    \n",
    "    data[\"data_allcat\"].add(rt.RooArgSet(H_mass_ANF))\n",
    "    '''\n",
    "    if data_tree.BDT_score > bdt_boundaries[0][0] and data_tree.BDT_score <= bdt_boundaries[0][1]:\n",
    "        data[\"data_cat0\"].add(rt.RooArgSet(H_mass_ANF))\n",
    "    elif data_tree.BDT_score > bdt_boundaries[1][0] and data_tree.BDT_score <= bdt_boundaries[1][1]:\n",
    "        data[\"data_cat1\"].add(rt.RooArgSet(H_mass_ANF))\n",
    "    elif data_tree.BDT_score > bdt_boundaries[2][0] and data_tree.BDT_score <= bdt_boundaries[2][1]:\n",
    "        data[\"data_cat2\"].add(rt.RooArgSet(H_mass_ANF))\n",
    "    elif data_tree.BDT_score > bdt_boundaries[3][0] and data_tree.BDT_score <= bdt_boundaries[3][1]:\n",
    "        data[\"data_cat3\"].add(rt.RooArgSet(H_mass_ANF))\n",
    "    '''"
   ]
  },
  {
   "cell_type": "code",
   "execution_count": 5,
   "metadata": {},
   "outputs": [
    {
     "data": {
      "text/plain": [
       "False"
      ]
     },
     "execution_count": 5,
     "metadata": {},
     "output_type": "execute_result"
    },
    {
     "name": "stdout",
     "output_type": "stream",
     "text": [
      "[#1] INFO:ObjectHandling -- RooWorkspace::import(w) importing dataset data_allcat\n",
      "[#1] INFO:ObjectHandling -- RooWorkspace::import(w) importing RooRealVar::CMS_hzg_mass\n",
      "[#1] INFO:ObjectHandling -- RooWorkspace::import(w) importing dataset ZG_NAF_allcat\n",
      "\n",
      "RooWorkspace(w) workspace contents\n",
      "\n",
      "variables\n",
      "---------\n",
      "(CMS_hzg_mass)\n",
      "\n",
      "datasets\n",
      "--------\n",
      "RooDataSet::data_allcat(CMS_hzg_mass)\n",
      "RooDataSet::ZG_NAF_allcat(CMS_hzg_mass)\n",
      "\n"
     ]
    }
   ],
   "source": [
    "w = rt.RooWorkspace(\"w\", \"workspace\")\n",
    "for cat in [\"data_allcat\"]:\n",
    "    getattr(w,'import')(data[cat])\n",
    "for cat in [\"ZG_NAF_allcat\"]:\n",
    "    getattr(w,'import')(data_ANF[cat])\n",
    "w.Print()\n",
    "w.writeToFile(\"dataTest_2jet.root\")"
   ]
  },
  {
   "cell_type": "code",
   "execution_count": 27,
   "metadata": {},
   "outputs": [
    {
     "name": "stdout",
     "output_type": "stream",
     "text": [
      "\n",
      "RooWorkspace(w) workspace contents\n",
      "\n",
      "variables\n",
      "---------\n",
      "(CMS_hzg_mass)\n",
      "\n",
      "datasets\n",
      "--------\n",
      "RooDataSet::cat0(CMS_hzg_mass)\n",
      "RooDataSet::cat1(CMS_hzg_mass)\n",
      "RooDataSet::cat2(CMS_hzg_mass)\n",
      "RooDataSet::cat3(CMS_hzg_mass)\n",
      "\n",
      "RooDataSet::cat0[CMS_hzg_mass] = 98092 entries\n"
     ]
    }
   ],
   "source": [
    "f = rt.TFile(\"dataTest.root\")\n",
    "w = f.Get(\"w\")\n",
    "w.Print()\n",
    "cat = \"cat0\"\n",
    "dataset = w.data(\"{}\".format(cat))\n",
    "x = w.var(\"CMS_hzg_mass\")\n",
    "dataset.Print()"
   ]
  },
  {
   "cell_type": "code",
   "execution_count": 6,
   "metadata": {},
   "outputs": [],
   "source": [
    "keysPdfs = {}\n",
    "keysPdfs_plots = {}\n",
    "def smoothbkg(name=\"\", x=None, mc=None, Data=None, setting=rt.RooKeysPdf.MirrorBoth, rho = 1.0):\n",
    "    keysPdf = rt.RooKeysPdf(\"CoreShape_{}\".format(name), \"CoreShape_{}\".format(name), x, mc, setting, rho)\n",
    "\n",
    "    canv = rt.TCanvas(name, name,800,1000)\n",
    "    pad1 = rt.TPad(name+\"pad1\", name+\"pad1\", 0, 0.5, 1, 1)\n",
    "    pad1.Draw()\n",
    "    pad2 = rt.TPad(name+\"pad2\", name+\"pad2\", 0, 0, 1, 0.5)\n",
    "    pad2.Draw()\n",
    "    pad1.cd()\n",
    "    pad1.SetLeftMargin(0.13)\n",
    "    \n",
    "    frame = x.frame(rt.RooFit.Title(\"Kernel Density Estimation with RooKeysPdf\"))\n",
    "    legend1 = rt.TLegend(0.7, 0.7, 0.9, 0.9)\n",
    "\n",
    "    # Draw the smooth pdf and data\n",
    "    x.setRange(\"unblindReg_1\",100,120)\n",
    "    x.setRange(\"unblindReg_2\",130,180)\n",
    "\n",
    "    Data.plotOn(frame, rt.RooFit.CutRange(\"unblindReg_1\"))\n",
    "    Data.plotOn(frame, rt.RooFit.CutRange(\"unblindReg_2\"))\n",
    "    keysPdf.plotOn(frame)\n",
    "    frame.Draw()\n",
    "    legend1.AddEntry(Data, \"Data\", \"P\")\n",
    "    legend1.AddEntry(keysPdf, \"Core PDF\", \"l\")\n",
    "    legend1.Draw()\n",
    "\n",
    "    pad1.Update()\n",
    "    pad1.Draw()\n",
    "\n",
    "    pad2.cd()\n",
    "    pad2.SetLeftMargin(0.13)\n",
    "\n",
    "    frame = x.frame(rt.RooFit.Title(\"Kernel Density Estimation with RooKeysPdf\"))\n",
    "    legend2 = rt.TLegend(0.7, 0.7, 0.9, 0.9)\n",
    "\n",
    "    mc.plotOn(frame, rt.RooFit.DrawOption(\"P\"), rt.RooFit.MarkerColor(rt.kRed), rt.RooFit.LineColor(rt.kRed))\n",
    "    keysPdf.plotOn(frame)\n",
    "    frame.Draw()\n",
    "    legend2.AddEntry(mc, \"NAF MC\", \"P\")\n",
    "    legend2.AddEntry(keysPdf, \"Core PDF\", \"l\")\n",
    "    legend2.Draw()\n",
    "\n",
    "    pad2.Update()\n",
    "    pad2.Draw()\n",
    "    canv.Update()\n",
    "    canv.Draw()\n",
    "\n",
    "    return keysPdf, canv\n"
   ]
  },
  {
   "cell_type": "code",
   "execution_count": 8,
   "metadata": {},
   "outputs": [
    {
     "name": "stdout",
     "output_type": "stream",
     "text": [
      "[#1] INFO:Plotting -- RooTreeData::plotOn: plotting 10758 events out of 29315 total events\n",
      "[#1] INFO:Plotting -- RooTreeData::plotOn: plotting 13248 events out of 29315 total events\n"
     ]
    },
    {
     "name": "stderr",
     "output_type": "stream",
     "text": [
      "Warning in <TCanvas::Constructor>: Deleting canvas with same name: ZG_NAF_allcat\n"
     ]
    },
    {
     "data": {
      "image/png": "[encoded data removed]",
      "text/plain": [
       "<IPython.core.display.Image object>"
      ]
     },
     "metadata": {},
     "output_type": "display_data"
    }
   ],
   "source": [
    "cat = \"allcat\"\n",
    "keysPdfs[\"ZG_NAF_{}\".format(cat)], keysPdfs_plots[\"ZG_NAF_{}\".format(cat)] = smoothbkg(\"ZG_NAF_{}\".format(cat), H_mass_ANF, data_ANF[\"ZG_NAF_{}\".format(cat)], data[\"data_{}\".format(cat)], rt.RooKeysPdf.MirrorBoth, 2)"
   ]
  },
  {
   "cell_type": "code",
   "execution_count": 9,
   "metadata": {},
   "outputs": [
    {
     "data": {
      "text/plain": [
       "False"
      ]
     },
     "execution_count": 9,
     "metadata": {},
     "output_type": "execute_result"
    },
    {
     "name": "stdout",
     "output_type": "stream",
     "text": [
      "[#1] INFO:ObjectHandling -- RooWorkspace::import(w) importing RooKeysPdf::CoreShape_ZG_NAF_allcat\n",
      "[#1] INFO:ObjectHandling -- RooWorkspace::import(w) importing RooRealVar::CMS_hzg_mass\n",
      "\n",
      "RooWorkspace(w) workspace contents\n",
      "\n",
      "variables\n",
      "---------\n",
      "(CMS_hzg_mass)\n",
      "\n",
      "p.d.f.s\n",
      "-------\n",
      "RooKeysPdf::CoreShape_ZG_NAF_allcat[ x=CMS_hzg_mass ] = 0.00484338\n",
      "\n"
     ]
    }
   ],
   "source": [
    "w = rt.RooWorkspace(\"w\", \"workspace\")\n",
    "for cat in [\"ZG_NAF_allcat\"]:\n",
    "    getattr(w,'import')(keysPdfs[cat])\n",
    "w.Print()\n",
    "w.writeToFile(\"ZGCoreShape_2jet.root\")"
   ]
  },
  {
   "cell_type": "code",
   "execution_count": 36,
   "metadata": {},
   "outputs": [
    {
     "name": "stdout",
     "output_type": "stream",
     "text": [
      "\n",
      "RooWorkspace(w) workspace contents\n",
      "\n",
      "variables\n",
      "---------\n",
      "(CMS_hzg_mass)\n",
      "\n",
      "p.d.f.s\n",
      "-------\n",
      "RooKeysPdf::CoreShape_ZG_NAF_allcat[ x=CMS_hzg_mass ] = 0.00447896\n",
      "RooKeysPdf::CoreShape_ZG_NAF_cat0[ x=CMS_hzg_mass ] = 0.00504831\n",
      "RooKeysPdf::CoreShape_ZG_NAF_cat1[ x=CMS_hzg_mass ] = 0.00364654\n",
      "RooKeysPdf::CoreShape_ZG_NAF_cat2[ x=CMS_hzg_mass ] = 0.00239393\n",
      "RooKeysPdf::CoreShape_ZG_NAF_cat3[ x=CMS_hzg_mass ] = 0.00249109\n",
      "\n",
      "0x55a108d05ca0 RooKeysPdf::CoreShape_ZG_NAF_cat0 = 0.00504831 [Auto,Dirty] \n",
      "  0x55a0f08c1d10/V- RooRealVar::CMS_hzg_mass = 134.583\n"
     ]
    },
    {
     "name": "stderr",
     "output_type": "stream",
     "text": [
      "Warning in <TCanvas::Constructor>: Deleting canvas with same name: c1\n"
     ]
    },
    {
     "data": {
      "image/png": "[encoded data removed]",
      "text/plain": [
       "<IPython.core.display.Image object>"
      ]
     },
     "metadata": {},
     "output_type": "display_data"
    }
   ],
   "source": [
    "f = rt.TFile(\"ZGCoreShape.root\")\n",
    "w = f.Get(\"w\")\n",
    "w.Print()\n",
    "model = w.pdf(\"CoreShape_ZG_NAF_cat0\")\n",
    "x = w.var(\"CMS_hzg_mass\")\n",
    "model.Print(\"t\")\n",
    "canv = rt.TCanvas(\"c1\",\"c1\",800,1000)\n",
    "xframe = x.frame()\n",
    "model.plotOn(xframe)\n",
    "xframe.Draw()\n",
    "canv.Draw()"
   ]
  },
  {
   "cell_type": "markdown",
   "metadata": {},
   "source": [
    "# Fit Test"
   ]
  },
  {
   "cell_type": "code",
   "execution_count": 2,
   "metadata": {},
   "outputs": [],
   "source": [
    "def bkg(x=None, corefunc=None, Func_type=\"\", order=1):\n",
    "    if Func_type == \"exp\":\n",
    "        f1 = rt.RooRealVar(\"f1\",\"f1\",0.5,0.,1.)\n",
    "        f2 = rt.RooRealVar(\"f2\",\"f2\",0.4,0.,1.)\n",
    "        f3 = rt.RooRealVar(\"f3\",\"f3\",0.4,0.,1.)\n",
    "        p1 = rt.RooRealVar(\"p1\",\"p1\",-0.01,-.1,.1)\n",
    "        p2 = rt.RooRealVar(\"p2\",\"p2\",-0.001,-.1,.1)\n",
    "        p3 = rt.RooRealVar(\"p3\",\"p3\",-0.005,-.1,.1)\n",
    "\n",
    "        #pdf_exp = RooExponential(\"exp\",\"exp\",mass_,p1)\n",
    "        exp_order1 = rt.RooFormulaVar(\"exp_order1\", \"exp_order1\",\"@3*exp(@1*@0)\",rt.RooArgList(x,p1,f1))\n",
    "        exp_order2 = rt.RooFormulaVar(\"exp_order2\", \"exp_order2\",\"@3*exp(@1*@0)+@4*exp(@2*@0)\",rt.RooArgList(x,p1,p2,f1,f2))\n",
    "        exp_order3 = rt.RooFormulaVar(\"exp_order3\", \"exp_order3\",\"@4*exp(@1*@0)+@5*exp(@2*@0)+@6*exp(@3*@0)\",rt.RooArgSet(x,p1,p2,p3,f1,f2,f3))\n",
    "\n",
    "        if order == 1: \n",
    "            model_final = rt.RooEffProd(\"model_final\", \"model_final\", corefunc, exp_order1)\n",
    "        if order == 2: \n",
    "            model_final = rt.RooEffProd(\"model_final\", \"model_final\", corefunc, exp_order2)\n",
    "        if order == 3: \n",
    "            model_final = rt.RooEffProd(\"model_final\", \"model_final\", corefunc, exp_order3)\n",
    "\n",
    "    return model_final\n"
   ]
  },
  {
   "cell_type": "code",
   "execution_count": 2,
   "metadata": {},
   "outputs": [
    {
     "name": "stdout",
     "output_type": "stream",
     "text": [
      "\n",
      "RooWorkspace(w) workspace contents\n",
      "\n",
      "variables\n",
      "---------\n",
      "(CMS_hzg_mass)\n",
      "\n",
      "p.d.f.s\n",
      "-------\n",
      "RooKeysPdf::CoreShape_ZG_NAF_allcat[ x=CMS_hzg_mass ] = 0.00447896\n",
      "RooKeysPdf::CoreShape_ZG_NAF_cat0[ x=CMS_hzg_mass ] = 0.00504831\n",
      "RooKeysPdf::CoreShape_ZG_NAF_cat1[ x=CMS_hzg_mass ] = 0.00364654\n",
      "RooKeysPdf::CoreShape_ZG_NAF_cat2[ x=CMS_hzg_mass ] = 0.00239393\n",
      "RooKeysPdf::CoreShape_ZG_NAF_cat3[ x=CMS_hzg_mass ] = 0.00249109\n",
      "\n",
      "\n",
      "RooWorkspace(w) workspace contents\n",
      "\n",
      "variables\n",
      "---------\n",
      "(CMS_hzg_mass)\n",
      "\n",
      "datasets\n",
      "--------\n",
      "RooDataSet::data_cat0(CMS_hzg_mass)\n",
      "RooDataSet::data_cat1(CMS_hzg_mass)\n",
      "RooDataSet::data_cat2(CMS_hzg_mass)\n",
      "RooDataSet::data_cat3(CMS_hzg_mass)\n",
      "RooDataSet::data_allcat(CMS_hzg_mass)\n",
      "RooDataSet::ZG_NAF_cat0(CMS_hzg_mass)\n",
      "RooDataSet::ZG_NAF_cat1(CMS_hzg_mass)\n",
      "RooDataSet::ZG_NAF_cat2(CMS_hzg_mass)\n",
      "RooDataSet::ZG_NAF_cat3(CMS_hzg_mass)\n",
      "RooDataSet::ZG_NAF_allcat(CMS_hzg_mass)\n",
      "\n"
     ]
    }
   ],
   "source": [
    "f = rt.TFile(\"ZGCoreShape.root\")\n",
    "w = f.Get(\"w\")\n",
    "w.Print()\n",
    "cat = \"cat0\"\n",
    "core_model = w.pdf(\"CoreShape_ZG_NAF_{}\".format(cat))\n",
    "x = w.var(\"CMS_hzg_mass\")\n",
    "\n",
    "f = rt.TFile(\"dataTest.root\")\n",
    "w = f.Get(\"w\")\n",
    "w.Print()\n",
    "dataset = w.data(\"data_{}\".format(cat))"
   ]
  },
  {
   "cell_type": "code",
   "execution_count": 3,
   "metadata": {},
   "outputs": [],
   "source": [
    "f1 = rt.RooRealVar(\"f1\",\"f1\",0.5,0.,1.)\n",
    "f2 = rt.RooRealVar(\"f2\",\"f2\",0.4,0.,1.)\n",
    "f3 = rt.RooRealVar(\"f3\",\"f3\",0.4,0.,1.)\n",
    "p1 = rt.RooRealVar(\"p1\",\"p1\",-0.1,-.1,.1)\n",
    "p2 = rt.RooRealVar(\"p2\",\"p2\",-0.01,-.1,.1)\n",
    "p3 = rt.RooRealVar(\"p3\",\"p3\",-0.005,-.1,.1)\n",
    "\n",
    "#pdf_exp = RooExponential(\"exp\",\"exp\",mass_,p1)\n",
    "exp_order1 = rt.RooGenericPdf(\"exp_order1\", \"exp_order1\",\"@2*exp(@1*@0)\",rt.RooArgList(x,p1,f1))\n",
    "exp_order2 = rt.RooFormulaVar(\"exp_order2\", \"exp_order2\",\"@3*exp(@1*@0)+@4*exp(@2*@0)\",rt.RooArgList(x,p1,p2,f1,f2))\n",
    "exp_order3 = rt.RooFormulaVar(\"exp_order3\", \"exp_order3\",\"@4*exp(@1*@0)+@5*exp(@2*@0)+@6*exp(@3*@0)\",rt.RooArgSet(x,p1,p2,p3,f1,f2,f3))\n",
    "\n",
    "#model_final = rt.RooEffProd(\"model_final\", \"model_final\", core_model, exp_order1)"
   ]
  },
  {
   "cell_type": "code",
   "execution_count": 4,
   "metadata": {},
   "outputs": [],
   "source": [
    "model_final = rt.RooEffProd(\"model_final\", \"model_final\", core_model, exp_order1)"
   ]
  },
  {
   "cell_type": "code",
   "execution_count": 4,
   "metadata": {},
   "outputs": [
    {
     "ename": "",
     "evalue": "",
     "output_type": "error",
     "traceback": [
      "\u001b[1;31mThe Kernel crashed while executing code in the current cell or a previous cell. \n",
      "\u001b[1;31mPlease review the code in the cell(s) to identify a possible cause of the failure. \n",
      "\u001b[1;31mClick <a href='https://aka.ms/vscodeJupyterKernelCrash'>here</a> for more info. \n",
      "\u001b[1;31mView Jupyter <a href='command:jupyter.viewOutput'>log</a> for further details."
     ]
    }
   ],
   "source": [
    "model = bkg(x, core_model, \"exp\", 1)\n"
   ]
  },
  {
   "cell_type": "code",
   "execution_count": null,
   "metadata": {},
   "outputs": [
    {
     "ename": "",
     "evalue": "",
     "output_type": "error",
     "traceback": [
      "\u001b[1;31mThe Kernel crashed while executing code in the current cell or a previous cell. \n",
      "\u001b[1;31mPlease review the code in the cell(s) to identify a possible cause of the failure. \n",
      "\u001b[1;31mClick <a href='https://aka.ms/vscodeJupyterKernelCrash'>here</a> for more info. \n",
      "\u001b[1;31mView Jupyter <a href='command:jupyter.viewOutput'>log</a> for further details."
     ]
    }
   ],
   "source": [
    "model.fitTo(data[\"data_\"+cat])"
   ]
  },
  {
   "cell_type": "code",
   "execution_count": 7,
   "metadata": {},
   "outputs": [
    {
     "name": "stdout",
     "output_type": "stream",
     "text": [
      "[#1] INFO:NumericIntegration -- RooRealIntegral::init(model_final_Int[CMS_hzg_mass]) using numeric integrator RooIntegrator1D to calculate Int(CMS_hzg_mass)\n",
      "[#1] INFO:NumericIntegration -- RooRealIntegral::init(exp_order1_Int[CMS_hzg_mass]) using numeric integrator RooIntegrator1D to calculate Int(CMS_hzg_mass)\n",
      "[#1] INFO:Minimization -- RooAbsMinimizerFcn::setOptimizeConst: activating const optimization\n",
      "[#1] INFO:Minimization --  The following expressions have been identified as constant and will be precalculated and cached: (CoreShape_ZG_NAF_cat0)\n",
      " **********\n",
      " **   11 **SET PRINT           1\n",
      " **********\n",
      " **********\n",
      " **   12 **SET NOGRAD\n",
      " **********\n",
      " PARAMETER DEFINITIONS:\n",
      "    NO.   NAME         VALUE      STEP SIZE      LIMITS\n",
      "     1 f1           2.60287e-01  2.39713e-01    0.00000e+00  1.00000e+00\n",
      "     2 p1           5.98934e-03  1.69103e-04   -1.00000e-01  1.00000e-01\n",
      " **********\n",
      " **   13 **SET ERR         0.5\n",
      " **********\n",
      " **********\n",
      " **   14 **SET PRINT           1\n",
      " **********\n",
      " **********\n",
      " **   15 **SET STR           1\n",
      " **********\n",
      " NOW USING STRATEGY  1: TRY TO BALANCE SPEED AGAINST RELIABILITY\n",
      " **********\n",
      " **   16 **MIGRAD        1000           1\n",
      " **********\n",
      " FIRST CALL TO USER FUNCTION AT NEW START POINT, WITH IFLAG=4.\n",
      " START MIGRAD MINIMIZATION.  STRATEGY  1.  CONVERGENCE WHEN EDM .LT. 1.00e-03\n",
      " FCN=431608 FROM MIGRAD    STATUS=INITIATE        6 CALLS           7 TOTAL\n",
      "                     EDM= unknown      STRATEGY= 1      NO ERROR MATRIX       \n",
      "  EXT PARAMETER               CURRENT GUESS       STEP         FIRST   \n",
      "  NO.   NAME      VALUE            ERROR          SIZE      DERIVATIVE \n",
      "   1  f1           2.60287e-01   2.39713e-01   6.41464e-01   0.00000e+00\n",
      "   2  p1           5.98934e-03   1.69103e-04   1.69407e-03   4.22140e-02\n",
      "                               ERR DEF= 0.5\n",
      " MIGRAD FAILS TO FIND IMPROVEMENT\n",
      " COVARIANCE MATRIX CALCULATED SUCCESSFULLY\n",
      " FCN=431608 FROM HESSE     STATUS=OK             12 CALLS          23 TOTAL\n",
      "                     EDM=1.05196e-13    STRATEGY= 1      ERROR MATRIX ACCURATE \n",
      "  EXT PARAMETER                                   STEP         FIRST   \n",
      "  NO.   NAME      VALUE            ERROR          SIZE      DERIVATIVE \n",
      "   1  f1           2.60287e-01   5.74308e-01   5.00000e-01   0.00000e+00\n",
      "   2  p1           5.98934e-03   1.69098e-04   7.68530e-04  -2.70767e-04\n",
      "                               ERR DEF= 0.5\n",
      " MIGRAD FAILS TO FIND IMPROVEMENT\n",
      " MIGRAD MINIMIZATION HAS CONVERGED.\n",
      " FCN=431608 FROM MIGRAD    STATUS=CONVERGED      23 CALLS          24 TOTAL\n",
      "                     EDM=1.05196e-13    STRATEGY= 1      ERROR MATRIX ACCURATE \n",
      "  EXT PARAMETER                                   STEP         FIRST   \n",
      "  NO.   NAME      VALUE            ERROR          SIZE      DERIVATIVE \n",
      "   1  f1           2.60287e-01   5.74308e-01   0.00000e+00   0.00000e+00\n",
      "   2  p1           5.98934e-03   1.69098e-04   0.00000e+00  -2.70767e-04\n",
      "                               ERR DEF= 0.5\n",
      " EXTERNAL ERROR MATRIX.    NDIM=  25    NPAR=  2    ERR DEF=0.5\n",
      "  4.135e+08  4.089e-05 \n",
      "  4.089e-05  2.859e-08 \n",
      " PARAMETER  CORRELATION COEFFICIENTS  \n",
      "       NO.  GLOBAL      1      2\n",
      "        1  0.00001   1.000  0.000\n",
      "        2  0.00001   0.000  1.000\n",
      " **********\n",
      " **   17 **SET ERR         0.5\n",
      " **********\n",
      " **********\n",
      " **   18 **SET PRINT           1\n",
      " **********\n",
      " **********\n",
      " **   19 **HESSE        1000\n",
      " **********\n",
      " COVARIANCE MATRIX CALCULATED SUCCESSFULLY\n",
      " FCN=431608 FROM HESSE     STATUS=OK             10 CALLS          34 TOTAL\n",
      "                     EDM=3.33352e-13    STRATEGY= 1      ERROR MATRIX ACCURATE \n",
      "  EXT PARAMETER                                INTERNAL      INTERNAL  \n",
      "  NO.   NAME      VALUE            ERROR       STEP SIZE       VALUE   \n",
      "   1  f1           2.60287e-01   5.74307e-01   5.00000e-01  -5.00000e-01\n",
      "   2  p1           5.98934e-03   1.69098e-04   3.07412e-05   5.99293e-02\n",
      "                               ERR DEF= 0.5\n",
      " EXTERNAL ERROR MATRIX.    NDIM=  25    NPAR=  2    ERR DEF=0.5\n",
      "  4.135e+08  0.000e+00 \n",
      "  0.000e+00  2.859e-08 \n",
      " PARAMETER  CORRELATION COEFFICIENTS  \n",
      "       NO.  GLOBAL      1      2\n",
      "        1  0.00000   1.000  0.000\n",
      "        2  0.00000   0.000  1.000\n",
      "[#1] INFO:Minimization -- RooAbsMinimizerFcn::setOptimizeConst: deactivating const optimization\n",
      "[#1] INFO:NumericIntegration -- RooRealIntegral::init(model_final_Int[CMS_hzg_mass]) using numeric integrator RooIntegrator1D to calculate Int(CMS_hzg_mass)\n",
      "[#1] INFO:NumericIntegration -- RooRealIntegral::init(exp_order1_Int[CMS_hzg_mass]) using numeric integrator RooIntegrator1D to calculate Int(CMS_hzg_mass)\n"
     ]
    },
    {
     "name": "stderr",
     "output_type": "stream",
     "text": [
      "Warning in <TCanvas::Constructor>: Deleting canvas with same name: c1\n"
     ]
    },
    {
     "data": {
      "image/png": "[encoded data removed]",
      "text/plain": [
       "<IPython.core.display.Image object>"
      ]
     },
     "metadata": {},
     "output_type": "display_data"
    }
   ],
   "source": [
    "results = model_final.fitTo(dataset)\n",
    "\n",
    "canv = rt.TCanvas(\"c1\",\"c1\",800,1000)\n",
    "frame = x.frame(65)\n",
    "\n",
    "dataset.plotOn(frame)\n",
    "model_final.plotOn(frame,rt.RooFit.LineColor(rt.kRed))\n",
    "\n",
    "frame.Draw()\n",
    "canv.Draw()\n",
    "\n",
    "#print(results)\n",
    "#results.Print(\"v\")"
   ]
  },
  {
   "cell_type": "code",
   "execution_count": 24,
   "metadata": {},
   "outputs": [
    {
     "name": "stdout",
     "output_type": "stream",
     "text": [
      "[#1] INFO:NumericIntegration -- RooRealIntegral::init(model_final_Int[CMS_hzg_mass]) using numeric integrator RooIntegrator1D to calculate Int(CMS_hzg_mass)\n",
      "[#1] INFO:NumericIntegration -- RooRealIntegral::init(exp_order1_Int[CMS_hzg_mass]) using numeric integrator RooIntegrator1D to calculate Int(CMS_hzg_mass)\n",
      "[#1] INFO:Minimization -- RooAbsMinimizerFcn::setOptimizeConst: activating const optimization\n",
      "[#1] INFO:Minimization --  The following expressions have been identified as constant and will be precalculated and cached: (CoreShape_cat0)\n",
      " **********\n",
      " **   40 **SET PRINT           1\n",
      " **********\n",
      " **********\n",
      " **   41 **SET NOGRAD\n",
      " **********\n",
      " PARAMETER DEFINITIONS:\n",
      "    NO.   NAME         VALUE      STEP SIZE      LIMITS\n",
      "     1 f1           2.60287e-01  2.39713e-01    0.00000e+00  1.00000e+00\n",
      "     2 p1           1.33922e-03  1.81223e-04   -1.00000e-01  1.00000e-01\n",
      " **********\n",
      " **   42 **SET ERR         0.5\n",
      " **********\n",
      " **********\n",
      " **   43 **SET PRINT           1\n",
      " **********\n",
      " **********\n",
      " **   44 **SET STR           1\n",
      " **********\n",
      " NOW USING STRATEGY  1: TRY TO BALANCE SPEED AGAINST RELIABILITY\n",
      " **********\n",
      " **   45 **MIGRAD        1000           1\n",
      " **********\n",
      " FIRST CALL TO USER FUNCTION AT NEW START POINT, WITH IFLAG=4.\n",
      " START MIGRAD MINIMIZATION.  STRATEGY  1.  CONVERGENCE WHEN EDM .LT. 1.00e-03\n",
      " FCN=406853 FROM MIGRAD    STATUS=INITIATE       51 CALLS          52 TOTAL\n",
      "                     EDM= unknown      STRATEGY= 1      NO ERROR MATRIX       \n",
      "  EXT PARAMETER               CURRENT GUESS       STEP         FIRST   \n",
      "  NO.   NAME      VALUE            ERROR          SIZE      DERIVATIVE \n",
      "   1  f1           2.60287e-01   2.39713e-01   0.00000e+00   0.00000e+00\n",
      "   2  p1           1.33922e-03   1.81223e-04   0.00000e+00  -1.51249e+00\n",
      "                               ERR DEF= 0.5\n",
      " MIGRAD MINIMIZATION HAS CONVERGED.\n",
      " MIGRAD WILL VERIFY CONVERGENCE AND ERROR MATRIX.\n",
      " MINUIT WARNING IN HESSE\n",
      " ============== Second derivative enters zero, param 1\n",
      " MINUIT WARNING IN HESSE\n",
      " ============== Second derivative zero for parameter1\n",
      "  MNHESS FAILS AND WILL RETURN DIAGONAL MATRIX. \n",
      " FCN=406853 FROM MIGRAD    STATUS=CONVERGED      62 CALLS          63 TOTAL\n",
      "                     EDM=1.73604e-16    STRATEGY= 1  ERROR MATRIX UNCERTAINTY 100.0 per cent\n",
      "  EXT PARAMETER                APPROXIMATE        STEP         FIRST   \n",
      "  NO.   NAME      VALUE            ERROR          SIZE      DERIVATIVE \n",
      "   1  f1           2.60287e-01   3.06272e-01  -0.00000e+00   0.00000e+00\n",
      "   2  p1           1.33971e-03   1.81223e-04   4.96820e-06   5.14058e-06\n",
      "                               ERR DEF= 0.5\n",
      " EXTERNAL ERROR MATRIX.    NDIM=  25    NPAR=  2    ERR DEF=0.5\n",
      "  1.149e-01  0.000e+00 \n",
      "  0.000e+00  3.284e-08 \n",
      "ERR MATRIX APPROXIMATE\n",
      " PARAMETER  CORRELATION COEFFICIENTS  \n",
      "       NO.  GLOBAL      1      2\n",
      "        1  0.00000   1.000  0.000\n",
      "        2  0.00000   0.000  1.000\n",
      " ERR MATRIX APPROXIMATE\n",
      " **********\n",
      " **   46 **HESSE        1000\n",
      " **********\n",
      " MINUIT WARNING IN HESSE\n",
      " ============== Second derivative zero for parameter1\n",
      "  MNHESS FAILS AND WILL RETURN DIAGONAL MATRIX. \n",
      " FCN=406853 FROM HESSE     STATUS=FAILED          5 CALLS          68 TOTAL\n",
      "                     EDM=1.73604e-16    STRATEGY= 1  ERROR MATRIX UNCERTAINTY 100.0 per cent\n",
      "  EXT PARAMETER                APPROXIMATE     INTERNAL      INTERNAL  \n",
      "  NO.   NAME      VALUE            ERROR       STEP SIZE       VALUE   \n",
      "   1  f1           7.65841e-02   3.06272e-01  -0.00000e+00  -5.00000e-01\n",
      "   2  p1           1.33971e-03   1.81223e-04   4.96820e-06   1.33975e-02\n",
      "                               ERR DEF= 0.5\n",
      " EXTERNAL ERROR MATRIX.    NDIM=  25    NPAR=  2    ERR DEF=0.5\n",
      "  1.149e-01  0.000e+00 \n",
      "  0.000e+00  3.284e-08 \n",
      "ERR MATRIX APPROXIMATE\n",
      " PARAMETER  CORRELATION COEFFICIENTS  \n",
      "       NO.  GLOBAL      1      2\n",
      "        1  0.00000   1.000  0.000\n",
      "        2  0.00000   0.000  1.000\n",
      " ERR MATRIX APPROXIMATE\n",
      " **********\n",
      " **   47 **SET ERR         0.5\n",
      " **********\n",
      " **********\n",
      " **   48 **SET PRINT           1\n",
      " **********\n",
      " **********\n",
      " **   49 **HESSE        1000\n",
      " **********\n",
      " MINUIT WARNING IN HESSE\n",
      " ============== Second derivative zero for parameter1\n",
      "  MNHESS FAILS AND WILL RETURN DIAGONAL MATRIX. \n",
      " FCN=406853 FROM HESSE     STATUS=FAILED          5 CALLS          73 TOTAL\n",
      "                     EDM=1.73604e-16    STRATEGY= 1  ERROR MATRIX UNCERTAINTY 100.0 per cent\n",
      "  EXT PARAMETER                APPROXIMATE     INTERNAL      INTERNAL  \n",
      "  NO.   NAME      VALUE            ERROR       STEP SIZE       VALUE   \n",
      "   1  f1           7.65841e-02   3.06272e-01  -0.00000e+00  -5.00000e-01\n",
      "   2  p1           1.33971e-03   1.81223e-04   4.96820e-06   1.33975e-02\n",
      "                               ERR DEF= 0.5\n",
      " EXTERNAL ERROR MATRIX.    NDIM=  25    NPAR=  2    ERR DEF=0.5\n",
      "  1.149e-01  0.000e+00 \n",
      "  0.000e+00  3.284e-08 \n",
      "ERR MATRIX APPROXIMATE\n",
      " PARAMETER  CORRELATION COEFFICIENTS  \n",
      "       NO.  GLOBAL      1      2\n",
      "        1  0.00000   1.000  0.000\n",
      "        2  0.00000   0.000  1.000\n",
      " ERR MATRIX APPROXIMATE\n",
      "[#1] INFO:Minimization -- RooAbsMinimizerFcn::setOptimizeConst: deactivating const optimization\n"
     ]
    }
   ],
   "source": [
    "results = model_final.fitTo(data[cat])"
   ]
  },
  {
   "cell_type": "code",
   "execution_count": 25,
   "metadata": {},
   "outputs": [
    {
     "data": {
      "text/plain": [
       "<cppyy.gbl.RooFitResult object at 0x(nil)>"
      ]
     },
     "execution_count": 25,
     "metadata": {},
     "output_type": "execute_result"
    }
   ],
   "source": []
  },
  {
   "cell_type": "code",
   "execution_count": 10,
   "metadata": {},
   "outputs": [],
   "source": [
    "filename = \"/afs/cern.ch/work/z/zewang/private/HZGamma/flashggfinalfit/CMSSW_10_2_13/src/flashggFinalFit/InputData/jet01_run2_CoreFunc_v2/HZGamma_data_sig_Hm125_workspace_cat0.root\"\n",
    "\n",
    "file = rt.TFile(filename)\n",
    "dataset = file.CMS_hzg_workspace.data(\"ggh_125_13TeV_untag_cat0\")\n",
    "CMS_hzg_mass = rt.RooRealVar(\"CMS_hzg_mass\", \"CMS_hzg_mass\", 125., 110., 140.)\n"
   ]
  },
  {
   "cell_type": "code",
   "execution_count": 9,
   "metadata": {},
   "outputs": [
    {
     "name": "stdout",
     "output_type": "stream",
     "text": [
      "RooDataSet::ggh_125_13TeV_untag_cat0[CMS_hzg_mass,weight:CMS_hzg_weight] = 65433 entries (50.0164 weighted)\n"
     ]
    }
   ],
   "source": [
    "dataset.Print()\n"
   ]
  },
  {
   "cell_type": "code",
   "execution_count": 32,
   "metadata": {},
   "outputs": [],
   "source": [
    "import numpy as np\n",
    "from ROOT import RooAbsPdf\n",
    "\n",
    "class DoubleSidedCrystalballFunction(RooAbsPdf):\n",
    "    def __init__(self, name, title, x, a1, a2, n1, n2, mean, sigma):\n",
    "        #super(MyCustomPdf, self).__init__(name, title)\n",
    "        self.x = RooRealVar(x.GetName(), x.GetTitle(), x.getMin(), x.getMax())\n",
    "        self.a1 = RooRealVar(a1.GetName(), a1.GetTitle(), a1.getMin(), a1.getMax())\n",
    "        self.a2 = RooRealVar(a2.GetName(), a2.GetTitle(), a2.getMin(), a2.getMax())\n",
    "        self.n1 = RooRealVar(n1.GetName(), n1.GetTitle(), n1.getMin(), n1.getMax())\n",
    "        self.n2 = RooRealVar(n2.GetName(), n2.GetTitle(), n2.getMin(), n2.getMax())\n",
    "        self.mean = RooRealVar(mean.GetName(), mean.GetTitle(), mean.getMin(), mean.getMax())\n",
    "        self.sigma = RooRealVar(sigma.GetName(), sigma.GetTitle(), sigma.getMin(), sigma.getMax())\n",
    "        self._vars = ROOT.RooArgSet(self.x, self.a1, self.a2, self.n1, self.n2, self.mean, self.sigma)\n",
    "        \n",
    "    def evaluate(self):\n",
    "        x_val = self.x.getVal()\n",
    "        a1_val = self.a1.getVal()\n",
    "        a2_val = self.a2.getVal()\n",
    "        n1_val = self.n1.getVal()\n",
    "        n2_val = self.n2.getVal()\n",
    "        mean_val = self.mean.getVal()\n",
    "        sigma_val = self.sigma.getVal()\n",
    "        return self.My_DoubleSidedCrystalballFunction(x_val, a1_val, a2_val, n1_val, n2_val, mean_val, sigma_val)\n",
    "    \n",
    "    def My_DoubleSidedCrystalballFunction( x, a1, a2, n1, n2, mean, sigma):\n",
    "\n",
    "        t = (x-mean)/sigma\n",
    "        val = -99.\n",
    "\n",
    "        if t > -a1 and t < a2:\n",
    "            val = np.exp(-0.5*t*t)\n",
    "        elif t<=-a1:\n",
    "            alpha1invn1 = a1/n1\n",
    "            val = np.exp(-0.5*a1*a1)*pow(1. - alpha1invn1*(a1+t), -n1)\n",
    "        elif t>=a2:\n",
    "            alpha2invn2 = a2/n2\n",
    "            val = np.exp(-0.5*a2*a2)*pow(1. - alpha2invn2*(a2-t), -n2)\n",
    "        return val\n",
    "    \n",
    "    def getAnalyticalIntegral(self, allVars, analVars, rangeName):\n",
    "        return 0\n",
    "\n",
    "    def analyticalIntegral(self, code, rangeName):\n",
    "        return 1"
   ]
  },
  {
   "cell_type": "code",
   "execution_count": 36,
   "metadata": {},
   "outputs": [],
   "source": [
    "sigma_dcb = rt.RooRealVar(\"sigma_dcb\",\"sigma_mh_dcb\", 2., 1.0, 3.)\n",
    "mean_dcb = rt.RooRealVar(\"mean_dcb\",\"mean_dcb\",2., 1.0, 5.)\n",
    "a1_dcb = rt.RooRealVar(\"a1_dcb\",\"a1_mh_dcb\", 5., 0.01, 100.)\n",
    "a2_dcb = rt.RooRealVar(\"a2_dcb\",\"a2_mh_dcb\", 5., 0.01, 100.)   \n",
    "n1_dcb = rt.RooRealVar(\"n1_dcb\",\"n1_mh_dcb\", 2.,0.0001,10.)\n",
    "n2_dcb = rt.RooRealVar(\"n2_dcb\",\"n2_mh_dcb\", 20.,0.0001,500)\n",
    "\n",
    "#pdf_dcb = DoubleSidedCrystalballFunction(\"DSCB\", \"DSCB\", CMS_hzg_mass, a1_dcb, a2_dcb, n1_dcb, n2_dcb, mean_dcb,sigma_dcb)\n",
    "\n",
    "DSCB_func = rt.RooGenericPdf(\"DSCB_func\", \"((@0-@5)/@6 > -@1)*((@0-@5)/@6 < @2)*(exp(-0.5*((@0-@5)/@6)*((@0-@5)/@6))) + ((@0-@5)/@6 <= -@1)*( exp(-0.5*@1*@1)*pow(1-@1/@3*(@1+((@0-@5)/@6)), -@3) ) + ((@0-@5)/@6 >= @2)*( exp(-0.5*@2*@2)*pow(1-@2/@4*(@2-((@0-@5)/@6)), -@4) )\", rt.RooArgSet(CMS_hzg_mass, a1_dcb, a2_dcb, n1_dcb, n2_dcb, mean_dcb,sigma_dcb))"
   ]
  },
  {
   "cell_type": "code",
   "execution_count": null,
   "metadata": {},
   "outputs": [],
   "source": [
    "DSCB_func.fitTo(dataset)"
   ]
  },
  {
   "cell_type": "code",
   "execution_count": null,
   "metadata": {},
   "outputs": [],
   "source": []
  }
 ],
 "metadata": {
  "kernelspec": {
   "display_name": "Python 3",
   "language": "python",
   "name": "python3"
  },
  "language_info": {
   "codemirror_mode": {
    "name": "ipython",
    "version": 3
   },
   "file_extension": ".py",
   "mimetype": "text/x-python",
   "name": "python",
   "nbconvert_exporter": "python",
   "pygments_lexer": "ipython3",
   "version": "3.8.19"
  }
 },
 "nbformat": 4,
 "nbformat_minor": 2
}
